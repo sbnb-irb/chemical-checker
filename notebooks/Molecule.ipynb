{
 "cells": [
  {
   "cell_type": "markdown",
   "metadata": {},
   "source": [
    "# Molecule representation"
   ]
  },
  {
   "cell_type": "code",
   "execution_count": 1,
   "metadata": {},
   "outputs": [
    {
     "name": "stderr",
     "output_type": "stream",
     "text": [
      "2020-07-16 17:34:25,168 chemicalchecker.util.config.config.Config [DEBUG   ] Loading config from: /aloy/home/mbertoni/cc_config.json\n",
      "2020-07-16 17:34:25,170 chemicalchecker.core.chemcheck.ChemicalChecker [DEBUG   ] ChemicalChecker with root: /aloy/web_checker/current/\n",
      "2020-07-16 17:34:25,710 chemicalchecker.core.chemcheck.ChemicalChecker [WARNING ] Logging level WARNING for logger 'chemicalchecker'.\n"
     ]
    }
   ],
   "source": [
    "from chemicalchecker import ChemicalChecker\n",
    "cc = ChemicalChecker()\n",
    "cc.set_verbosity('warning') # suppress debug ouput"
   ]
  },
  {
   "cell_type": "markdown",
   "metadata": {},
   "source": [
    "Initialize a molecule object"
   ]
  },
  {
   "cell_type": "code",
   "execution_count": 2,
   "metadata": {},
   "outputs": [],
   "source": [
    "from chemicalchecker.core import Mol\n",
    "mol1 = Mol(cc, 'RZVAJINKPMORJF-UHFFFAOYSA-N', 'inchikey')"
   ]
  },
  {
   "cell_type": "markdown",
   "metadata": {},
   "source": [
    "and visualize it"
   ]
  },
  {
   "cell_type": "code",
   "execution_count": 3,
   "metadata": {},
   "outputs": [
    {
     "data": {
      "image/png": "[encoded data removed]",
      "text/plain": [
       "<rdkit.Chem.rdchem.Mol at 0x7fae6f580570>"
      ]
     },
     "execution_count": 3,
     "metadata": {},
     "output_type": "execute_result"
    }
   ],
   "source": [
    "mol1.show()"
   ]
  },
  {
   "cell_type": "code",
   "execution_count": 4,
   "metadata": {},
   "outputs": [
    {
     "data": {
      "text/plain": [
       "'CC(O)=Nc1ccc(O)cc1'"
      ]
     },
     "execution_count": 4,
     "metadata": {},
     "output_type": "execute_result"
    }
   ],
   "source": [
    "mol1.smiles"
   ]
  },
  {
   "cell_type": "code",
   "execution_count": 5,
   "metadata": {},
   "outputs": [
    {
     "data": {
      "text/plain": [
       "'InChI=1S/C8H9NO2/c1-6(10)9-7-2-4-8(11)5-3-7/h2-5,11H,1H3,(H,9,10)'"
      ]
     },
     "execution_count": 5,
     "metadata": {},
     "output_type": "execute_result"
    }
   ],
   "source": [
    "mol1.inchi"
   ]
  },
  {
   "cell_type": "code",
   "execution_count": 6,
   "metadata": {},
   "outputs": [
    {
     "data": {
      "text/plain": [
       "'RZVAJINKPMORJF-UHFFFAOYSA-N'"
      ]
     },
     "execution_count": 6,
     "metadata": {},
     "output_type": "execute_result"
    }
   ],
   "source": [
    "mol1.inchikey"
   ]
  },
  {
   "cell_type": "markdown",
   "metadata": {},
   "source": [
    "When not specifying the type of identifier we do our best to guess it"
   ]
  },
  {
   "cell_type": "code",
   "execution_count": 7,
   "metadata": {},
   "outputs": [],
   "source": [
    "mol2 = Mol(cc, 'CC(O)=Nc1ccc(O)cc1')"
   ]
  },
  {
   "cell_type": "code",
   "execution_count": 8,
   "metadata": {},
   "outputs": [
    {
     "data": {
      "text/plain": [
       "True"
      ]
     },
     "execution_count": 8,
     "metadata": {},
     "output_type": "execute_result"
    }
   ],
   "source": [
    "mol2.inchi == mol1.inchi"
   ]
  },
  {
   "cell_type": "markdown",
   "metadata": {},
   "source": [
    "Query the CC for signature where this molecules is available"
   ]
  },
  {
   "cell_type": "code",
   "execution_count": 9,
   "metadata": {},
   "outputs": [
    {
     "data": {
      "text/plain": [
       "{'full': {'A1.001': ['sign1'],\n",
       "  'A2.001': ['sign1'],\n",
       "  'A3.001': ['sign1'],\n",
       "  'A4.001': ['sign1'],\n",
       "  'A5.001': ['sign1'],\n",
       "  'B1.001': ['sign1'],\n",
       "  'B2.001': ['sign1'],\n",
       "  'B3.001': ['sign1'],\n",
       "  'B4.001': ['sign1'],\n",
       "  'B5.001': ['sign1'],\n",
       "  'C1.001': ['sign1'],\n",
       "  'C2.001': ['sign1'],\n",
       "  'C3.001': ['sign1'],\n",
       "  'C4.001': ['sign1'],\n",
       "  'C5.001': ['sign1'],\n",
       "  'D1.001': ['sign1'],\n",
       "  'E1.001': ['sign1'],\n",
       "  'E2.001': ['sign1'],\n",
       "  'E3.001': ['sign1'],\n",
       "  'E4.001': ['sign1'],\n",
       "  'E5.001': ['sign1']}}"
      ]
     },
     "execution_count": 9,
     "metadata": {},
     "output_type": "execute_result"
    }
   ],
   "source": [
    "mol1.report_available(cctype='sign1')"
   ]
  },
  {
   "cell_type": "markdown",
   "metadata": {},
   "source": [
    "Obtain the signature for our molcule"
   ]
  },
  {
   "cell_type": "code",
   "execution_count": 10,
   "metadata": {},
   "outputs": [],
   "source": [
    "mol_signature = mol1.signature('sign1','E5.001')"
   ]
  }
 ],
 "metadata": {
  "kernelspec": {
   "display_name": "Python 3",
   "language": "python",
   "name": "python3"
  },
  "language_info": {
   "codemirror_mode": {
    "name": "ipython",
    "version": 3
   },
   "file_extension": ".py",
   "mimetype": "text/x-python",
   "name": "python",
   "nbconvert_exporter": "python",
   "pygments_lexer": "ipython3",
   "version": "3.7.4"
  }
 },
 "nbformat": 4,
 "nbformat_minor": 2
}
